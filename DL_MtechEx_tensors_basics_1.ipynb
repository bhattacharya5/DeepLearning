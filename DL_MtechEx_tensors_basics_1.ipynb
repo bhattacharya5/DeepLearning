{
  "cells": [
    {
      "cell_type": "markdown",
      "metadata": {
        "id": "view-in-github",
        "colab_type": "text"
      },
      "source": [
        "<a href=\"https://colab.research.google.com/github/bhattacharya5/DeepLearning/blob/main/DL_MtechEx_tensors_basics_1.ipynb\" target=\"_parent\"><img src=\"https://colab.research.google.com/assets/colab-badge.svg\" alt=\"Open In Colab\"/></a>"
      ]
    },
    {
      "cell_type": "markdown",
      "source": [
        "**NOTE :** The tutorial is collected from online resources"
      ],
      "metadata": {
        "id": "D97Tj0AufToj"
      }
    },
    {
      "cell_type": "markdown",
      "source": [
        "\n",
        "i. https://cs231n.github.io/convolutional-networks/\n",
        "ii. https://medium.datadriveninvestor.com/convolutional-neural-network-cnn-simplified-ecafd4ee52c5\n",
        "iii. https://www.simplilearn.com/tutorials/deep-learning-tutorial/rnn\n",
        "iv. https://colah.github.io/posts/2015-08-Understanding-LSTMs/\n",
        "v. https://towardsdatascience.com/how-the-lstm-improves-the-rnn-1ef156b75121"
      ],
      "metadata": {
        "id": "65ILVy6Zf5zK"
      }
    },
    {
      "cell_type": "markdown",
      "source": [
        "1. For learning Pytorch - https://youtube.com/playlist?list=PLqnslRFeH2UrcDBWF5mfPGpqQDSta6VK4\n",
        "2. For optimizers - https://youtu.be/TudQZtgpoHk"
      ],
      "metadata": {
        "id": "ztLmXqJ-gD0r"
      }
    },
    {
      "cell_type": "markdown",
      "metadata": {
        "id": "VHdKxnwFW_2Y"
      },
      "source": [
        "Let's import the `torch` module to get started."
      ]
    },
    {
      "cell_type": "code",
      "execution_count": null,
      "metadata": {
        "id": "VMDBhcQuW_2Z"
      },
      "outputs": [],
      "source": [
        "import torch"
      ]
    },
    {
      "cell_type": "code",
      "source": [
        "torch.cuda.is_available()"
      ],
      "metadata": {
        "colab": {
          "base_uri": "https://localhost:8080/"
        },
        "id": "p-e2K8TkmRAp",
        "outputId": "587d9660-42b3-4e33-8dc6-dad29be8dcd9"
      },
      "execution_count": null,
      "outputs": [
        {
          "output_type": "execute_result",
          "data": {
            "text/plain": [
              "True"
            ]
          },
          "metadata": {},
          "execution_count": 30
        }
      ]
    },
    {
      "cell_type": "markdown",
      "metadata": {
        "id": "D6hVvKDTW_2b"
      },
      "source": [
        "## Tensors\n",
        "\n",
        "At its core, PyTorch is a library for processing tensors. A tensor is a number, vector, matrix, or any n-dimensional array. Let's create a tensor with a single number."
      ]
    },
    {
      "cell_type": "code",
      "execution_count": null,
      "metadata": {
        "colab": {
          "base_uri": "https://localhost:8080/"
        },
        "id": "pZtgxsu0W_2d",
        "outputId": "b28b6646-7dfb-4881-9ca9-d5edec5f5dd6"
      },
      "outputs": [
        {
          "output_type": "stream",
          "name": "stdout",
          "text": [
            "tensor(4., dtype=torch.float64)\n",
            "torch.Size([])\n",
            "torch.float64\n"
          ]
        }
      ],
      "source": [
        "# Number\n",
        "t1 = torch.tensor(4, dtype=torch.float64)\n",
        "print(t1)\n",
        "print(t1.shape)\n",
        "print(t1.dtype)"
      ]
    },
    {
      "cell_type": "code",
      "source": [
        "z = torch.zeros((5, 3), dtype=torch.int16)\n",
        "print(z)\n",
        "print(z.dtype)\n",
        "print(z.shape)"
      ],
      "metadata": {
        "colab": {
          "base_uri": "https://localhost:8080/"
        },
        "id": "ES1IzlTqYBsi",
        "outputId": "30ab4db9-0436-4fc3-d99d-a35121cad87d"
      },
      "execution_count": null,
      "outputs": [
        {
          "output_type": "stream",
          "name": "stdout",
          "text": [
            "tensor([[0, 0, 0],\n",
            "        [0, 0, 0],\n",
            "        [0, 0, 0],\n",
            "        [0, 0, 0],\n",
            "        [0, 0, 0]], dtype=torch.int16)\n",
            "torch.int16\n",
            "torch.Size([5, 3])\n"
          ]
        }
      ]
    },
    {
      "cell_type": "markdown",
      "metadata": {
        "id": "sOh8EAyhW_2l"
      },
      "source": [
        "Let's try creating more complex tensors."
      ]
    },
    {
      "cell_type": "code",
      "execution_count": null,
      "metadata": {
        "colab": {
          "base_uri": "https://localhost:8080/"
        },
        "id": "8L27UXxHW_2m",
        "outputId": "896247a6-3465-45b5-f2d7-ea5c842e5dca"
      },
      "outputs": [
        {
          "output_type": "stream",
          "name": "stdout",
          "text": [
            "tensor([1., 2., 3., 4.])\n",
            "torch.float32\n",
            "torch.Size([4])\n"
          ]
        }
      ],
      "source": [
        "# Vector\n",
        "t2 = torch.tensor([1., 2, 3, 4])\n",
        "print(t2)\n",
        "print(t2.dtype)\n",
        "print(t2.shape)"
      ]
    },
    {
      "cell_type": "code",
      "source": [
        "# Vector\n",
        "t2 = torch.tensor(([1, 2, 3, 4]),dtype=torch.int16)\n",
        "t2\n",
        "print(t2.dtype)\n",
        "t2.shape"
      ],
      "metadata": {
        "colab": {
          "base_uri": "https://localhost:8080/"
        },
        "id": "xRAtAZTub_bI",
        "outputId": "c73b485a-5be3-425b-95db-2d74712bb124"
      },
      "execution_count": null,
      "outputs": [
        {
          "output_type": "stream",
          "name": "stdout",
          "text": [
            "torch.int16\n"
          ]
        },
        {
          "output_type": "execute_result",
          "data": {
            "text/plain": [
              "torch.Size([4])"
            ]
          },
          "metadata": {},
          "execution_count": 34
        }
      ]
    },
    {
      "cell_type": "code",
      "source": [
        "t10 = torch.tensor([1,3])\n",
        "t10"
      ],
      "metadata": {
        "colab": {
          "base_uri": "https://localhost:8080/"
        },
        "id": "o2DKnel6de0R",
        "outputId": "f31b5006-79d2-46b5-f163-fb4c1022b136"
      },
      "execution_count": null,
      "outputs": [
        {
          "output_type": "execute_result",
          "data": {
            "text/plain": [
              "tensor([1, 3])"
            ]
          },
          "metadata": {},
          "execution_count": 35
        }
      ]
    },
    {
      "cell_type": "code",
      "execution_count": null,
      "metadata": {
        "colab": {
          "base_uri": "https://localhost:8080/"
        },
        "id": "Gon3DCnCW_2n",
        "outputId": "88337058-95e4-4ed0-ecd5-208f7c8481f1"
      },
      "outputs": [
        {
          "output_type": "execute_result",
          "data": {
            "text/plain": [
              "tensor([[ 5.,  6.,  8.],\n",
              "        [ 7.,  8.,  7.],\n",
              "        [ 9., 10.,  6.]])"
            ]
          },
          "metadata": {},
          "execution_count": 36
        }
      ],
      "source": [
        "# Matrix\n",
        "t3 = torch.tensor([[5., 6,8], \n",
        "                   [7, 8,7], \n",
        "                   [9, 10,6]])\n",
        "t3"
      ]
    },
    {
      "cell_type": "code",
      "source": [
        "t3.dtype"
      ],
      "metadata": {
        "colab": {
          "base_uri": "https://localhost:8080/"
        },
        "id": "oSd3fqp5duV9",
        "outputId": "2b024bee-23e1-40ea-b445-64c2e032c36d"
      },
      "execution_count": null,
      "outputs": [
        {
          "output_type": "execute_result",
          "data": {
            "text/plain": [
              "torch.float32"
            ]
          },
          "metadata": {},
          "execution_count": 37
        }
      ]
    },
    {
      "cell_type": "code",
      "source": [
        "t3.shape"
      ],
      "metadata": {
        "colab": {
          "base_uri": "https://localhost:8080/"
        },
        "id": "qqXtFyPEdyqD",
        "outputId": "9da105e2-852c-4d07-ea18-a8793bc40b46"
      },
      "execution_count": null,
      "outputs": [
        {
          "output_type": "execute_result",
          "data": {
            "text/plain": [
              "torch.Size([3, 3])"
            ]
          },
          "metadata": {},
          "execution_count": 38
        }
      ]
    },
    {
      "cell_type": "code",
      "execution_count": null,
      "metadata": {
        "colab": {
          "base_uri": "https://localhost:8080/"
        },
        "id": "aSrPSIViW_2o",
        "outputId": "143d9a21-669e-4c26-8e46-ab56b06485bd"
      },
      "outputs": [
        {
          "output_type": "stream",
          "name": "stdout",
          "text": [
            "torch.Size([2, 2, 3])\n"
          ]
        },
        {
          "output_type": "execute_result",
          "data": {
            "text/plain": [
              "tensor([[[11., 12., 13.],\n",
              "         [13., 14., 15.]],\n",
              "\n",
              "        [[15., 16., 17.],\n",
              "         [17., 18., 19.]]])"
            ]
          },
          "metadata": {},
          "execution_count": 39
        }
      ],
      "source": [
        "# 3-dimensional array\n",
        "t4 = torch.tensor([\n",
        "    [[11, 12, 13], \n",
        "     [13, 14, 15]], \n",
        "    [[15, 16, 17], \n",
        "     [17, 18, 19.]]])\n",
        "print(t4.shape)\n",
        "t4"
      ]
    },
    {
      "cell_type": "code",
      "source": [],
      "metadata": {
        "id": "8Zcp-EkFdxmU"
      },
      "execution_count": null,
      "outputs": []
    },
    {
      "cell_type": "code",
      "source": [
        "torch.manual_seed(1729)\n",
        "r1 = torch.rand(2, 2)\n",
        "print('A random tensor:')\n",
        "print(r1)\n",
        "\n",
        "r2 = torch.rand(2, 2)\n",
        "print('\\nA different random tensor:')\n",
        "print(r2) # new values\n",
        "\n",
        "torch.manual_seed(1729)\n",
        "r3 = torch.rand(2, 2 ,3)\n",
        "\n",
        "print(r3)"
      ],
      "metadata": {
        "colab": {
          "base_uri": "https://localhost:8080/"
        },
        "id": "qwqevyFRgRLz",
        "outputId": "091b080e-f308-4cce-a163-2a5baa8f6d53"
      },
      "execution_count": null,
      "outputs": [
        {
          "output_type": "stream",
          "name": "stdout",
          "text": [
            "A random tensor:\n",
            "tensor([[0.3126, 0.3791],\n",
            "        [0.3087, 0.0736]])\n",
            "\n",
            "A different random tensor:\n",
            "tensor([[0.4216, 0.0691],\n",
            "        [0.2332, 0.4047]])\n",
            "tensor([[[0.3126, 0.3791, 0.3087],\n",
            "         [0.0736, 0.4216, 0.0691]],\n",
            "\n",
            "        [[0.2332, 0.4047, 0.2162],\n",
            "         [0.9927, 0.4128, 0.5938]]])\n"
          ]
        }
      ]
    },
    {
      "cell_type": "markdown",
      "metadata": {
        "id": "M4PxNZ2LW_2z"
      },
      "source": [
        "Note that it's not possible to create tensors with an improper shape."
      ]
    },
    {
      "cell_type": "code",
      "execution_count": null,
      "metadata": {
        "colab": {
          "base_uri": "https://localhost:8080/"
        },
        "id": "BOQTy47oW_20",
        "outputId": "1c84970f-240a-46e5-e3cb-a17d07cd6b44"
      },
      "outputs": [
        {
          "output_type": "execute_result",
          "data": {
            "text/plain": [
              "tensor([[ 5.,  6., 11.],\n",
              "        [ 7.,  8.,  8.],\n",
              "        [ 9., 10.,  7.]])"
            ]
          },
          "metadata": {},
          "execution_count": 41
        }
      ],
      "source": [
        "# Matrix\n",
        "t5 = torch.tensor([[5., 6, 11], \n",
        "                   [7, 8,8], \n",
        "                   [9, 10,7]])\n",
        "t5"
      ]
    },
    {
      "cell_type": "markdown",
      "metadata": {
        "id": "u0_Kg20UW_21"
      },
      "source": [
        "A `ValueError` is thrown because the lengths of the rows `[5., 6, 11]` and `[7, 8]` don't match."
      ]
    },
    {
      "cell_type": "markdown",
      "metadata": {
        "id": "_hjCFCysW_22"
      },
      "source": [
        "## Tensor operations and gradients\n",
        "\n",
        "We can combine tensors with the usual arithmetic operations. Let's look at an example:"
      ]
    },
    {
      "cell_type": "code",
      "execution_count": null,
      "metadata": {
        "colab": {
          "base_uri": "https://localhost:8080/"
        },
        "id": "J2kQdwlhW_23",
        "outputId": "da20ee97-f93e-477a-a0fe-bebd536d05e1"
      },
      "outputs": [
        {
          "output_type": "execute_result",
          "data": {
            "text/plain": [
              "(tensor(3.), tensor(4., requires_grad=True), tensor(5., requires_grad=True))"
            ]
          },
          "metadata": {},
          "execution_count": 42
        }
      ],
      "source": [
        "# Create tensors.\n",
        "x = torch.tensor(3.)\n",
        "w = torch.tensor(4., requires_grad=True)\n",
        "b = torch.tensor(5., requires_grad=True)\n",
        "x, w, b"
      ]
    },
    {
      "cell_type": "code",
      "execution_count": null,
      "metadata": {
        "colab": {
          "base_uri": "https://localhost:8080/"
        },
        "id": "hPtYULWhW_24",
        "outputId": "9d428f4c-5cb9-4936-b266-76cec33f3c05"
      },
      "outputs": [
        {
          "output_type": "execute_result",
          "data": {
            "text/plain": [
              "tensor(17., grad_fn=<AddBackward0>)"
            ]
          },
          "metadata": {},
          "execution_count": 43
        }
      ],
      "source": [
        "# Arithmetic operations\n",
        "y = w * x + b\n",
        "y"
      ]
    },
    {
      "cell_type": "code",
      "source": [
        "r = (torch.rand(2, 2) - 0.5) * 2 # values between -1 and 1\n",
        "print('A random matrix, r:')\n",
        "print(r)\n",
        "\n",
        "# Common mathematical operations are supported:\n",
        "print('\\nAbsolute value of r:')\n",
        "print(torch.abs(r))\n",
        "\n",
        "# ...as are trigonometric functions:\n",
        "print('\\nInverse sine of r:')\n",
        "print(torch.asin(r))\n",
        "\n",
        "# ...and linear algebra operations like determinant and singular value decomposition\n",
        "print('\\nDeterminant of r:')\n",
        "print(torch.det(r))\n",
        "print('\\nSingular value decomposition of r:')\n",
        "print(torch.svd(r))\n",
        "\n",
        "# ...and statistical and aggregate operations:\n",
        "print('\\nAverage and standard deviation of r:')\n",
        "print(torch.std_mean(r))\n",
        "print('\\nMaximum value of r:')\n",
        "print(torch.max(r))"
      ],
      "metadata": {
        "colab": {
          "base_uri": "https://localhost:8080/"
        },
        "id": "JHhZviOtgypc",
        "outputId": "499ae7b5-203b-4159-e49b-bff3ef221897"
      },
      "execution_count": null,
      "outputs": [
        {
          "output_type": "stream",
          "name": "stdout",
          "text": [
            "A random matrix, r:\n",
            "tensor([[ 0.2255, -0.6961],\n",
            "        [-0.9093,  0.0070]])\n",
            "\n",
            "Absolute value of r:\n",
            "tensor([[0.2255, 0.6961],\n",
            "        [0.9093, 0.0070]])\n",
            "\n",
            "Inverse sine of r:\n",
            "tensor([[ 0.2275, -0.7700],\n",
            "        [-1.1417,  0.0070]])\n",
            "\n",
            "Determinant of r:\n",
            "tensor(-0.6314)\n",
            "\n",
            "Singular value decomposition of r:\n",
            "torch.return_types.svd(\n",
            "U=tensor([[-0.4635,  0.8861],\n",
            "        [ 0.8861,  0.4635]]),\n",
            "S=tensor([0.9679, 0.6524]),\n",
            "V=tensor([[-0.9405, -0.3398],\n",
            "        [ 0.3398, -0.9405]]))\n",
            "\n",
            "Average and standard deviation of r:\n",
            "(tensor(0.5450), tensor(-0.3432))\n",
            "\n",
            "Maximum value of r:\n",
            "tensor(0.2255)\n"
          ]
        }
      ]
    },
    {
      "cell_type": "code",
      "execution_count": null,
      "metadata": {
        "id": "5e_6Ht98W_26"
      },
      "outputs": [],
      "source": [
        "# Compute derivatives\n",
        "y.backward()"
      ]
    },
    {
      "cell_type": "markdown",
      "metadata": {
        "id": "pK9NJkndW_26"
      },
      "source": [
        "The derivatives of `y` with respect to the input tensors are stored in the `.grad` property of the respective tensors."
      ]
    },
    {
      "cell_type": "code",
      "execution_count": null,
      "metadata": {
        "colab": {
          "base_uri": "https://localhost:8080/"
        },
        "id": "Hy4NBGdQW_27",
        "outputId": "9f981046-2ef1-4162-d21f-ad16d206e399"
      },
      "outputs": [
        {
          "output_type": "stream",
          "name": "stdout",
          "text": [
            "dy/dx: None\n",
            "dy/dw: tensor(3.)\n",
            "dy/db: tensor(1.)\n"
          ]
        }
      ],
      "source": [
        "# Display gradients\n",
        "print('dy/dx:', x.grad)\n",
        "print('dy/dw:', w.grad)\n",
        "print('dy/db:', b.grad)"
      ]
    },
    {
      "cell_type": "markdown",
      "metadata": {
        "id": "DLtg4FyCW_27"
      },
      "source": [
        "As expected, `dy/dw` has the same value as `x`, i.e., `3`, and `dy/db` has the value `1`. Note that `x.grad` is `None` because `x` doesn't have `requires_grad` set to `True`. \n",
        "\n",
        "The \"grad\" in `w.grad` is short for _gradient_, which is another term for derivative. The term _gradient_ is primarily used while dealing with vectors and matrices."
      ]
    },
    {
      "cell_type": "markdown",
      "metadata": {
        "id": "KqKgG3rUW_28"
      },
      "source": [
        "## Tensor functions\n",
        "\n",
        "Apart from arithmetic operations, the `torch` module also contains many functions for creating and manipulating tensors. Let's look at some examples."
      ]
    },
    {
      "cell_type": "code",
      "execution_count": null,
      "metadata": {
        "colab": {
          "base_uri": "https://localhost:8080/"
        },
        "id": "KY8ILeTiW_28",
        "outputId": "585a4182-756a-4779-c05c-2efcc7689e90"
      },
      "outputs": [
        {
          "output_type": "execute_result",
          "data": {
            "text/plain": [
              "tensor([[42, 42, 42],\n",
              "        [42, 42, 42],\n",
              "        [42, 42, 42]])"
            ]
          },
          "metadata": {},
          "execution_count": 51
        }
      ],
      "source": [
        "# Create a tensor with a fixed value for every element\n",
        "t6 = torch.full((3, 3), 42)\n",
        "t6\n"
      ]
    },
    {
      "cell_type": "code",
      "execution_count": null,
      "metadata": {
        "colab": {
          "base_uri": "https://localhost:8080/"
        },
        "id": "1gcLskQ9W_29",
        "outputId": "c2c3248c-8b3a-43e0-b8e6-420f9ef7baaf"
      },
      "outputs": [
        {
          "output_type": "execute_result",
          "data": {
            "text/plain": [
              "tensor([[ 5.,  6.,  8.],\n",
              "        [ 7.,  8.,  7.],\n",
              "        [ 9., 10.,  6.],\n",
              "        [42., 42., 42.],\n",
              "        [42., 42., 42.],\n",
              "        [42., 42., 42.]])"
            ]
          },
          "metadata": {},
          "execution_count": 52
        }
      ],
      "source": [
        "# Concatenate two tensors with compatible shapes\n",
        "t7 = torch.cat((t3, t6))\n",
        "t7"
      ]
    },
    {
      "cell_type": "code",
      "execution_count": null,
      "metadata": {
        "colab": {
          "base_uri": "https://localhost:8080/"
        },
        "id": "BUBaC6bLW_2_",
        "outputId": "52a79d84-1d4e-4d2f-8e2f-7a0a771c2678"
      },
      "outputs": [
        {
          "output_type": "execute_result",
          "data": {
            "text/plain": [
              "tensor([[-0.9589, -0.2794,  0.9894],\n",
              "        [ 0.6570,  0.9894,  0.6570],\n",
              "        [ 0.4121, -0.5440, -0.2794],\n",
              "        [-0.9165, -0.9165, -0.9165],\n",
              "        [-0.9165, -0.9165, -0.9165],\n",
              "        [-0.9165, -0.9165, -0.9165]])"
            ]
          },
          "metadata": {},
          "execution_count": 53
        }
      ],
      "source": [
        "# Compute the sin of each element\n",
        "t8 = torch.sin(t7)\n",
        "t8"
      ]
    },
    {
      "cell_type": "code",
      "execution_count": null,
      "metadata": {
        "colab": {
          "base_uri": "https://localhost:8080/"
        },
        "id": "iDKm0SxMW_3A",
        "outputId": "94485d77-21e4-408e-c2d4-05535ded2c8d"
      },
      "outputs": [
        {
          "output_type": "stream",
          "name": "stdout",
          "text": [
            "torch.Size([6, 3])\n",
            "tensor([[-0.9589, -0.2794,  0.9894],\n",
            "        [ 0.6570,  0.9894,  0.6570],\n",
            "        [ 0.4121, -0.5440, -0.2794],\n",
            "        [-0.9165, -0.9165, -0.9165],\n",
            "        [-0.9165, -0.9165, -0.9165],\n",
            "        [-0.9165, -0.9165, -0.9165]])\n",
            "torch.Size([2, 9])\n",
            "tensor([[-0.9589, -0.2794,  0.9894,  0.6570,  0.9894,  0.6570,  0.4121, -0.5440,\n",
            "         -0.2794],\n",
            "        [-0.9165, -0.9165, -0.9165, -0.9165, -0.9165, -0.9165, -0.9165, -0.9165,\n",
            "         -0.9165]])\n"
          ]
        }
      ],
      "source": [
        "# Change the shape of a tensor\n",
        "print(t8.shape)\n",
        "print(t8)\n",
        "t9 = t8.reshape(2,9)\n",
        "print(t9.shape)\n",
        "print(t9)"
      ]
    },
    {
      "cell_type": "markdown",
      "metadata": {
        "id": "TVQWGWILW_3E"
      },
      "source": [
        "Here's how we create an array in Numpy:"
      ]
    },
    {
      "cell_type": "code",
      "execution_count": null,
      "metadata": {
        "colab": {
          "base_uri": "https://localhost:8080/"
        },
        "id": "LbLkg13hW_3n",
        "outputId": "b96f70ee-e70e-40d8-e2f2-92f7e3aa1073"
      },
      "outputs": [
        {
          "output_type": "execute_result",
          "data": {
            "text/plain": [
              "array([[1., 2.],\n",
              "       [3., 4.]])"
            ]
          },
          "metadata": {},
          "execution_count": 57
        }
      ],
      "source": [
        "import numpy as np\n",
        "\n",
        "x = np.array([[1, 2], [3, 4.]])\n",
        "x"
      ]
    },
    {
      "cell_type": "markdown",
      "metadata": {
        "id": "8hJ_BrCwW_3n"
      },
      "source": [
        "We can convert a Numpy array to a PyTorch tensor using `torch.from_numpy`."
      ]
    },
    {
      "cell_type": "code",
      "execution_count": null,
      "metadata": {
        "colab": {
          "base_uri": "https://localhost:8080/"
        },
        "id": "jnK98XmZW_3o",
        "outputId": "051386c5-7069-43dc-bda0-042fb28a6a04"
      },
      "outputs": [
        {
          "output_type": "execute_result",
          "data": {
            "text/plain": [
              "tensor([[1., 2.],\n",
              "        [3., 4.]], dtype=torch.float64)"
            ]
          },
          "metadata": {},
          "execution_count": 58
        }
      ],
      "source": [
        "# Convert the numpy array to a torch tensor.\n",
        "y = torch.from_numpy(x)\n",
        "y"
      ]
    },
    {
      "cell_type": "markdown",
      "metadata": {
        "id": "75E0G9jUW_3o"
      },
      "source": [
        "Let's verify that the numpy array and torch tensor have similar data types."
      ]
    },
    {
      "cell_type": "code",
      "execution_count": null,
      "metadata": {
        "colab": {
          "base_uri": "https://localhost:8080/"
        },
        "id": "ouBmfHZaW_3o",
        "outputId": "98e79347-98b6-47b2-e0a5-0b1d10aba21e"
      },
      "outputs": [
        {
          "output_type": "execute_result",
          "data": {
            "text/plain": [
              "(dtype('float64'), torch.float64)"
            ]
          },
          "metadata": {},
          "execution_count": 59
        }
      ],
      "source": [
        "x.dtype, y.dtype"
      ]
    },
    {
      "cell_type": "markdown",
      "metadata": {
        "id": "9SDvR451W_3p"
      },
      "source": [
        "We can convert a PyTorch tensor to a Numpy array using the `.numpy` method of a tensor."
      ]
    },
    {
      "cell_type": "code",
      "execution_count": null,
      "metadata": {
        "colab": {
          "base_uri": "https://localhost:8080/"
        },
        "id": "ZVq6ASzzW_3p",
        "outputId": "7bb2ddd7-e4a1-4eb5-81a3-17d506a36fce"
      },
      "outputs": [
        {
          "output_type": "execute_result",
          "data": {
            "text/plain": [
              "array([[1., 2.],\n",
              "       [3., 4.]])"
            ]
          },
          "metadata": {},
          "execution_count": 60
        }
      ],
      "source": [
        "# Convert a torch tensor to a numpy array\n",
        "z = y.numpy()\n",
        "z"
      ]
    }
  ],
  "metadata": {
    "language_info": {
      "name": "python"
    },
    "colab": {
      "provenance": [],
      "collapsed_sections": [],
      "include_colab_link": true
    },
    "kernelspec": {
      "name": "python3",
      "display_name": "Python 3"
    },
    "accelerator": "GPU",
    "gpuClass": "standard"
  },
  "nbformat": 4,
  "nbformat_minor": 0
}